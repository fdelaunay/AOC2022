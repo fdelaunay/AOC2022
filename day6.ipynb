{
 "cells": [
  {
   "cell_type": "code",
   "execution_count": 4,
   "metadata": {},
   "outputs": [],
   "source": [
    "import unittest"
   ]
  },
  {
   "cell_type": "markdown",
   "metadata": {},
   "source": [
    "ple, suppose you receive the following datastream buffer:\n",
    "\n",
    "`mjqjpqmgbljsphdztnvjfqwrcgsmlb`\n",
    "\n",
    "After the first three characters (mjq) have been received, there haven't been enough characters received yet to find the marker. The first time a marker could occur is after the fourth character is received, making the most recent four characters mjqj. Because j is repeated, this isn't a marker.\n",
    "\n",
    "The first time a marker appears is after the seventh character arrives. Once it does, the last four characters received are jpqm, which are all different. In this case, your subroutine should report the value 7, because the first start-of-packet marker is complete after 7 characters have been processed.\n",
    "\n",
    "Here are a few more examples:\n",
    "\n",
    "    `bvwbjplbgvbhsrlpgdmjqwftvncz`: first marker after character 5\n",
    "    `nppdvjthqldpwncqszvftbrmjlhg`: first marker after character 6\n",
    "    `nznrnfrfntjfmvfwmzdfjlvtqnbhcprsg`: first marker after character 10\n",
    "    `zcfzfwzzqfrljwzlrfnpqdbhtmscgvjw`: first marker after character 11\n"
   ]
  },
  {
   "cell_type": "code",
   "execution_count": 27,
   "metadata": {},
   "outputs": [
    {
     "name": "stderr",
     "output_type": "stream",
     "text": [
      "....\n",
      "----------------------------------------------------------------------\n",
      "Ran 4 tests in 0.003s\n",
      "\n",
      "OK\n"
     ]
    },
    {
     "data": {
      "text/plain": [
       "<unittest.main.TestProgram at 0x2573869b760>"
      ]
     },
     "execution_count": 27,
     "metadata": {},
     "output_type": "execute_result"
    }
   ],
   "source": [
    "def get_packet(string : str, start : int, size :int = 4 ):\n",
    "    return string[start:start+size]\n",
    "\n",
    "def is_marker(s : str):\n",
    "    return len(set(s)) == len(s)\n",
    "\n",
    "def where_is_marker(s: str, size :int = 4):\n",
    "    for i in range(len(s)):\n",
    "        if is_marker(get_packet(s,i, size)):\n",
    "            return i + size\n",
    "\n",
    "class Testers(unittest.TestCase):\n",
    "\n",
    "    def test_get_packet(self):\n",
    "        self.assertEqual(get_packet(\"bvwbjplbgvbhsrlpgdmjqwftvncz\", 0), \"bvwb\")\n",
    "        self.assertEqual(get_packet(\"bvwbjplbgvbhsrlpgdmjqwftvncz\", 1), \"vwbj\")\n",
    "\n",
    "    def test_is_marker(self):\n",
    "        self.assertEqual(is_marker(\"bvwb\"), False)\n",
    "        self.assertEqual(is_marker(\"vwbj\"), True )\n",
    "    \n",
    "    def test_where_is_marker(self):\n",
    "        self.assertEqual(where_is_marker('bvwbjplbgvbhsrlpgdmjqwftvncz'), 5)\n",
    "        self.assertEqual(where_is_marker('nppdvjthqldpwncqszvftbrmjlhg'), 6)\n",
    "        self.assertEqual(where_is_marker('nznrnfrfntjfmvfwmzdfjlvtqnbhcprsg'), 10)\n",
    "        self.assertEqual(where_is_marker('zcfzfwzzqfrljwzlrfnpqdbhtmscgvjw'), 11)\n",
    "    \n",
    "    def test_where_is_message(self):\n",
    "        self.assertEqual(where_is_marker('mjqjpqmgbljsphdztnvjfqwrcgsmlb', 14), 19)\n",
    "        self.assertEqual(where_is_marker('bvwbjplbgvbhsrlpgdmjqwftvncz', 14), 23)\n",
    "\n",
    "unittest.main(argv=[''], verbosity=1, exit=False)"
   ]
  },
  {
   "cell_type": "markdown",
   "metadata": {},
   "source": [
    "## Question 1"
   ]
  },
  {
   "cell_type": "code",
   "execution_count": 17,
   "metadata": {},
   "outputs": [],
   "source": [
    "file = open('data/day6.in', \"r\")\n",
    "signal =file.read()"
   ]
  },
  {
   "cell_type": "code",
   "execution_count": 19,
   "metadata": {},
   "outputs": [
    {
     "data": {
      "text/plain": [
       "1356"
      ]
     },
     "execution_count": 19,
     "metadata": {},
     "output_type": "execute_result"
    }
   ],
   "source": [
    "where_is_marker(signal)"
   ]
  },
  {
   "cell_type": "markdown",
   "metadata": {},
   "source": [
    "## Question 2"
   ]
  },
  {
   "cell_type": "code",
   "execution_count": 25,
   "metadata": {},
   "outputs": [
    {
     "data": {
      "text/plain": [
       "2564"
      ]
     },
     "execution_count": 25,
     "metadata": {},
     "output_type": "execute_result"
    }
   ],
   "source": [
    "where_is_marker(signal,14)"
   ]
  },
  {
   "cell_type": "code",
   "execution_count": null,
   "metadata": {},
   "outputs": [],
   "source": []
  }
 ],
 "metadata": {
  "kernelspec": {
   "display_name": "Python 3.9.13 ('base')",
   "language": "python",
   "name": "python3"
  },
  "language_info": {
   "codemirror_mode": {
    "name": "ipython",
    "version": 3
   },
   "file_extension": ".py",
   "mimetype": "text/x-python",
   "name": "python",
   "nbconvert_exporter": "python",
   "pygments_lexer": "ipython3",
   "version": "3.9.13"
  },
  "orig_nbformat": 4,
  "vscode": {
   "interpreter": {
    "hash": "5ae58900cfbb8c43ab3495913814b7cf26024f51651a94ce8bf64d6111688e8d"
   }
  }
 },
 "nbformat": 4,
 "nbformat_minor": 2
}
