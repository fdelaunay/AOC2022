{
 "cells": [
  {
   "cell_type": "code",
   "execution_count": 14,
   "metadata": {},
   "outputs": [],
   "source": [
    "import pandas as pd\n",
    "import unittest\n",
    "from dataclasses import dataclass\n",
    "from typing import List"
   ]
  },
  {
   "cell_type": "markdown",
   "metadata": {},
   "source": [
    "## Get data"
   ]
  },
  {
   "cell_type": "code",
   "execution_count": 23,
   "metadata": {},
   "outputs": [
    {
     "name": "stdout",
     "output_type": "stream",
     "text": [
      "[['V', 'J', 'B', 'D'], ['F', 'D', 'R', 'W', 'B', 'V', 'P'], ['Q', 'W', 'C', 'D', 'L', 'F', 'G', 'R'], ['B', 'D', 'N', 'L', 'M', 'P', 'J', 'W'], ['Q', 'S', 'C', 'P', 'B', 'N', 'H'], ['G', 'N', 'S', 'B', 'D', 'R'], ['H', 'S', 'F', 'Q', 'M', 'P', 'B', 'Z'], ['F', 'L', 'W'], ['R', 'M', 'F', 'V', 'S']]\n"
     ]
    }
   ],
   "source": [
    "initial_stacks = []\n",
    "\n",
    "with open(\"data/day5_stacks.csv\", \"r\", newline=\"\\r\\n\") as f:\n",
    "    for x in f:\n",
    "        initial_stacks.append(x.strip().split(','))\n",
    "\n",
    "print(initial_stacks)"
   ]
  },
  {
   "cell_type": "code",
   "execution_count": 16,
   "metadata": {},
   "outputs": [
    {
     "data": {
      "text/html": [
       "<div>\n",
       "<style scoped>\n",
       "    .dataframe tbody tr th:only-of-type {\n",
       "        vertical-align: middle;\n",
       "    }\n",
       "\n",
       "    .dataframe tbody tr th {\n",
       "        vertical-align: top;\n",
       "    }\n",
       "\n",
       "    .dataframe thead th {\n",
       "        text-align: right;\n",
       "    }\n",
       "</style>\n",
       "<table border=\"1\" class=\"dataframe\">\n",
       "  <thead>\n",
       "    <tr style=\"text-align: right;\">\n",
       "      <th></th>\n",
       "      <th>nb</th>\n",
       "      <th>src</th>\n",
       "      <th>to</th>\n",
       "    </tr>\n",
       "  </thead>\n",
       "  <tbody>\n",
       "    <tr>\n",
       "      <th>count</th>\n",
       "      <td>502.000000</td>\n",
       "      <td>502.000000</td>\n",
       "      <td>502.000000</td>\n",
       "    </tr>\n",
       "    <tr>\n",
       "      <th>mean</th>\n",
       "      <td>4.954183</td>\n",
       "      <td>4.914343</td>\n",
       "      <td>5.143426</td>\n",
       "    </tr>\n",
       "    <tr>\n",
       "      <th>std</th>\n",
       "      <td>6.452026</td>\n",
       "      <td>2.594835</td>\n",
       "      <td>2.565576</td>\n",
       "    </tr>\n",
       "    <tr>\n",
       "      <th>min</th>\n",
       "      <td>1.000000</td>\n",
       "      <td>1.000000</td>\n",
       "      <td>1.000000</td>\n",
       "    </tr>\n",
       "    <tr>\n",
       "      <th>25%</th>\n",
       "      <td>1.000000</td>\n",
       "      <td>3.000000</td>\n",
       "      <td>3.000000</td>\n",
       "    </tr>\n",
       "    <tr>\n",
       "      <th>50%</th>\n",
       "      <td>2.500000</td>\n",
       "      <td>5.000000</td>\n",
       "      <td>5.000000</td>\n",
       "    </tr>\n",
       "    <tr>\n",
       "      <th>75%</th>\n",
       "      <td>6.000000</td>\n",
       "      <td>7.000000</td>\n",
       "      <td>7.000000</td>\n",
       "    </tr>\n",
       "    <tr>\n",
       "      <th>max</th>\n",
       "      <td>47.000000</td>\n",
       "      <td>9.000000</td>\n",
       "      <td>9.000000</td>\n",
       "    </tr>\n",
       "  </tbody>\n",
       "</table>\n",
       "</div>"
      ],
      "text/plain": [
       "               nb         src          to\n",
       "count  502.000000  502.000000  502.000000\n",
       "mean     4.954183    4.914343    5.143426\n",
       "std      6.452026    2.594835    2.565576\n",
       "min      1.000000    1.000000    1.000000\n",
       "25%      1.000000    3.000000    3.000000\n",
       "50%      2.500000    5.000000    5.000000\n",
       "75%      6.000000    7.000000    7.000000\n",
       "max     47.000000    9.000000    9.000000"
      ]
     },
     "execution_count": 16,
     "metadata": {},
     "output_type": "execute_result"
    }
   ],
   "source": [
    "moves = pd.read_csv('data/day5.in'\n",
    "                    , skiprows= 10\n",
    "                    , delimiter=' '\n",
    "                    , usecols=[1,3,5]\n",
    "                    , names=[\"nb\", \"src\", \"to\"]\n",
    "                    )\n",
    "\n",
    "moves.describe()"
   ]
  },
  {
   "cell_type": "markdown",
   "metadata": {},
   "source": [
    "## Helpers"
   ]
  },
  {
   "cell_type": "code",
   "execution_count": 17,
   "metadata": {},
   "outputs": [
    {
     "name": "stderr",
     "output_type": "stream",
     "text": [
      "...\n",
      "----------------------------------------------------------------------\n",
      "Ran 3 tests in 0.002s\n",
      "\n",
      "OK\n"
     ]
    },
    {
     "name": "stdout",
     "output_type": "stream",
     "text": [
      "Supply(stacks=[['D', 'N', 'Z'], ['C', 'M'], ['P']])\n"
     ]
    },
    {
     "data": {
      "text/plain": [
       "<unittest.main.TestProgram at 0x2a70e513f70>"
      ]
     },
     "execution_count": 17,
     "metadata": {},
     "output_type": "execute_result"
    }
   ],
   "source": [
    "@dataclass\n",
    "class Supply:\n",
    "    # Declare a list of strings\n",
    "    stacks: List[str]\n",
    "\n",
    "    def remove_first(self, src : int):\n",
    "        self.stacks[src-1].pop(0)\n",
    "\n",
    "    def remove_i(self, nb : int, src : int):\n",
    "        for n in range(nb):\n",
    "            self.stacks[src-1].pop(0)\n",
    "    \n",
    "    def move(self, nb : int, src : int, to : int):\n",
    "        for n in range(nb):\n",
    "            self.move_one(src, to)\n",
    "        #print(self.stacks)\n",
    "            \n",
    "    def move2(self, nb : int, src : int, to : int):\n",
    "        target = self.get_stack(src)[:nb]\n",
    "        # add\n",
    "        self.stacks[to-1] = target + self.stacks[to-1]\n",
    "        # remove\n",
    "        self.remove_i(nb, src)\n",
    "  \n",
    "    def move_one(self, src : int, to : int):\n",
    "        #add\n",
    "        self.stacks[to-1].insert(0,self.stacks[src-1][0])\n",
    "        #remove\n",
    "        self.remove_first(src)\n",
    "\n",
    "    def get_stack(self, i):\n",
    "        return self.stacks[i-1]\n",
    "\n",
    "#     [D]    \n",
    "# [N] [C]    \n",
    "# [Z] [M] [P]\n",
    "#  1   2   3 \n",
    "\n",
    "class Helpers(unittest.TestCase):\n",
    "\n",
    "    def test_move_i(self):\n",
    "        test_supply = Supply(stacks=[['N','Z'],['D','C','M'],['P']])\n",
    "\n",
    "        test_supply.remove_i(1, 1)\n",
    "        self.assertEqual(test_supply.get_stack(1), ['Z'])\n",
    "\n",
    "    def test_move(self):\n",
    "        test_supply = Supply(stacks=[['N','Z'],['D','C','M'],['P']])\n",
    "        # move 1 from 2 to 1\n",
    "        test_supply.move(1, 2, 1)\n",
    "        self.assertEqual(test_supply.get_stack(1), ['D', 'N', 'Z'])\n",
    "        self.assertEqual(test_supply.get_stack(2), ['C', 'M'])\n",
    "        print(repr(test_supply))\n",
    "        # move 3 from 1 to 3\n",
    "        test_supply.move(3, 1, 3)\n",
    "        # move 2 from 2 to 1\n",
    "        test_supply.move(2, 2, 1)\n",
    "        # move 1 from 1 to 2\n",
    "        test_supply.move(1, 1, 2)\n",
    "        self.assertEqual(test_supply.get_stack(1), ['C'])\n",
    "        self.assertEqual(test_supply.get_stack(2), ['M'])\n",
    "        self.assertEqual(test_supply.get_stack(3), ['Z','N','D','P'])\n",
    "\n",
    "\n",
    "    def test_move2(self):\n",
    "        test_supply = Supply(stacks=[['N','Z'],['D','C','M'],['P']])\n",
    "        # move 1 from 2 to 1\n",
    "        test_supply.move2(1, 2, 1)\n",
    "        self.assertEqual(test_supply.get_stack(1), ['D', 'N', 'Z'])\n",
    "        self.assertEqual(test_supply.get_stack(2), ['C', 'M'])\n",
    "        # move 3 from 1 to 3\n",
    "        test_supply.move2(3, 1, 3)\n",
    "        self.assertEqual(test_supply.get_stack(3), ['D', 'N', 'Z', 'P'])\n",
    "        # move 2 from 2 to 1\n",
    "        test_supply.move2(2, 2, 1)\n",
    "        # move 1 from 1 to 2\n",
    "        test_supply.move2(1, 1, 2)\n",
    "        self.assertEqual(test_supply.get_stack(1), ['M'])\n",
    "        self.assertEqual(test_supply.get_stack(2), ['C'])\n",
    "        self.assertEqual(test_supply.get_stack(3), ['D', 'N', 'Z', 'P'])\n",
    "\n",
    "unittest.main(argv=[''], verbosity=1, exit=False)\n",
    "\n",
    "\n",
    "# "
   ]
  },
  {
   "cell_type": "markdown",
   "metadata": {},
   "source": [
    "## Question 1"
   ]
  },
  {
   "cell_type": "code",
   "execution_count": 18,
   "metadata": {},
   "outputs": [
    {
     "data": {
      "text/plain": [
       "0      None\n",
       "1      None\n",
       "2      None\n",
       "3      None\n",
       "4      None\n",
       "       ... \n",
       "497    None\n",
       "498    None\n",
       "499    None\n",
       "500    None\n",
       "501    None\n",
       "Length: 502, dtype: object"
      ]
     },
     "execution_count": 18,
     "metadata": {},
     "output_type": "execute_result"
    }
   ],
   "source": [
    "supply1 = Supply(stacks=initial_stacks)\n",
    "\n",
    "moves.apply(lambda x: supply1.move(x.nb, x.src, x.to), axis=1)"
   ]
  },
  {
   "cell_type": "code",
   "execution_count": 19,
   "metadata": {},
   "outputs": [
    {
     "data": {
      "text/plain": [
       "Supply(stacks=[['B', 'G', 'B', 'N', 'F'], ['S', 'G', 'S', 'B'], ['D', 'R', 'W', 'Z', 'D', 'B', 'M', 'V'], ['M', 'W', 'R'], ['Q', 'W', 'V', 'P', 'F'], ['F', 'F', 'C', 'D', 'N', 'D', 'V', 'J', 'P', 'S', 'F', 'P', 'D', 'R', 'L', 'J', 'H'], ['L', 'N'], ['S'], ['P', 'Q', 'M', 'Q', 'B', 'L', 'W', 'H', 'R', 'C', 'B']])"
      ]
     },
     "execution_count": 19,
     "metadata": {},
     "output_type": "execute_result"
    }
   ],
   "source": [
    "supply1"
   ]
  },
  {
   "cell_type": "code",
   "execution_count": 20,
   "metadata": {},
   "outputs": [
    {
     "name": "stdout",
     "output_type": "stream",
     "text": [
      "BSDMQFLSP\n"
     ]
    }
   ],
   "source": [
    "result1 = ''\n",
    "for stack in supply1.stacks:\n",
    "    result1 += stack[0]\n",
    "print(result1)"
   ]
  },
  {
   "cell_type": "markdown",
   "metadata": {},
   "source": [
    "## Question 2"
   ]
  },
  {
   "cell_type": "code",
   "execution_count": 24,
   "metadata": {},
   "outputs": [
    {
     "data": {
      "text/plain": [
       "0      None\n",
       "1      None\n",
       "2      None\n",
       "3      None\n",
       "4      None\n",
       "       ... \n",
       "497    None\n",
       "498    None\n",
       "499    None\n",
       "500    None\n",
       "501    None\n",
       "Length: 502, dtype: object"
      ]
     },
     "execution_count": 24,
     "metadata": {},
     "output_type": "execute_result"
    }
   ],
   "source": [
    "supply2 = Supply(stacks=initial_stacks)\n",
    "supply2\n",
    "moves.apply(lambda x: supply2.move2(x.nb, x.src, x.to), axis=1)"
   ]
  },
  {
   "cell_type": "code",
   "execution_count": 25,
   "metadata": {},
   "outputs": [
    {
     "name": "stdout",
     "output_type": "stream",
     "text": [
      "PGSQBFLDP\n"
     ]
    }
   ],
   "source": [
    "result2 = ''\n",
    "for stack in supply2.stacks:\n",
    "    result2 += stack[0]\n",
    "print(result2)"
   ]
  },
  {
   "cell_type": "code",
   "execution_count": 22,
   "metadata": {},
   "outputs": [
    {
     "data": {
      "text/plain": [
       "[['B', 'G', 'B', 'N', 'F'],\n",
       " ['S', 'G', 'S', 'B'],\n",
       " ['W', 'R', 'S', 'M', 'D', 'R', 'W', 'Z', 'D', 'B', 'M', 'V'],\n",
       " [],\n",
       " ['Q', 'W', 'V', 'P', 'F'],\n",
       " ['P',\n",
       "  'Q',\n",
       "  'M',\n",
       "  'Q',\n",
       "  'B',\n",
       "  'F',\n",
       "  'F',\n",
       "  'C',\n",
       "  'D',\n",
       "  'N',\n",
       "  'D',\n",
       "  'V',\n",
       "  'J',\n",
       "  'P',\n",
       "  'S',\n",
       "  'F',\n",
       "  'P',\n",
       "  'D',\n",
       "  'R',\n",
       "  'L',\n",
       "  'J',\n",
       "  'H'],\n",
       " ['L', 'N'],\n",
       " [],\n",
       " ['L', 'W', 'H', 'R', 'C', 'B']]"
      ]
     },
     "execution_count": 22,
     "metadata": {},
     "output_type": "execute_result"
    }
   ],
   "source": [
    "initial_stacks\n"
   ]
  }
 ],
 "metadata": {
  "kernelspec": {
   "display_name": "Python 3.9.13 ('base')",
   "language": "python",
   "name": "python3"
  },
  "language_info": {
   "codemirror_mode": {
    "name": "ipython",
    "version": 3
   },
   "file_extension": ".py",
   "mimetype": "text/x-python",
   "name": "python",
   "nbconvert_exporter": "python",
   "pygments_lexer": "ipython3",
   "version": "3.9.13"
  },
  "orig_nbformat": 4,
  "vscode": {
   "interpreter": {
    "hash": "5ae58900cfbb8c43ab3495913814b7cf26024f51651a94ce8bf64d6111688e8d"
   }
  }
 },
 "nbformat": 4,
 "nbformat_minor": 2
}
