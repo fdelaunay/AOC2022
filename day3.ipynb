{
 "cells": [
  {
   "cell_type": "code",
   "execution_count": 15,
   "metadata": {},
   "outputs": [],
   "source": [
    "import unittest"
   ]
  },
  {
   "cell_type": "markdown",
   "metadata": {},
   "source": [
    "## Get data"
   ]
  },
  {
   "cell_type": "code",
   "execution_count": 16,
   "metadata": {},
   "outputs": [
    {
     "name": "stdout",
     "output_type": "stream",
     "text": [
      "[['NLBLfrNNLvqwbMfD', 'qSjSzzSJjjggcdVs'], ['lTRGPPZnRRH', 'szcsZdSsccZ'], ['CFTTFtFHTtC', 'tDDzrmBtrBD'], ['BJldgBWnRgWNWtllSlWS', 'hMcLcVSvVjbVVVvDVVVL'], ['HFGFwqQPQGwHrTFpw', 'mThMbDDVcVmLvvshj'], ['HrpHrGPZZCQrfq', 'lNdtMlzfMltlgn'], ['hQLhBtBtQNQjBjNLvtLjzL', 'JpWbjJdppSwjpCCplllJdj'], ['FGFsmccSPTVPfVVH', 'pJJgwlJwwWJWpCmR'], ['sFPfPFHZTHSc', 'nzBttqzvQzqZ'], ['MNTGMTnGWvTwwwnZhNZn', 'WDPPdSjqsSPWjmBCSBWS']]..."
     ]
    }
   ],
   "source": [
    "rucksacks = []\n",
    "\n",
    "with open(\"data/day3.in\", \"r\", newline=\"\\n\") as f:\n",
    "    for x in f:\n",
    "        length = len(x)\n",
    "        x = x.strip()\n",
    "        first_comp  = x[:length // 2]\n",
    "        second_comp = x[length // 2:]\n",
    "        rucksacks.append([first_comp, second_comp])\n",
    "\n",
    "print(rucksacks[:10], end=\"...\")\n"
   ]
  },
  {
   "cell_type": "markdown",
   "metadata": {},
   "source": [
    "## Helpers"
   ]
  },
  {
   "cell_type": "markdown",
   "metadata": {},
   "source": [
    "### common letter\n",
    "\n",
    " - The first rucksack contains the items vJrwpWtwJgWrhcsFMMfFFhFp, which means its first compartment contains the items vJrwpWtwJgWr, while the second compartment contains the items hcsFMMfFFhFp. The only item type that appears in both compartments is lowercase p.\n",
    " - The second rucksack's compartments contain jqHRNqRjqzjGDLGL and rsFMfFZSrLrFZsSL. The only item type that appears in both compartments is uppercase L.\n",
    " - The third rucksack's compartments contain PmmdzqPrV and vPwwTWBwg; the only common item type is uppercase P.\n"
   ]
  },
  {
   "cell_type": "code",
   "execution_count": 22,
   "metadata": {},
   "outputs": [
    {
     "name": "stderr",
     "output_type": "stream",
     "text": [
      ".\n",
      "----------------------------------------------------------------------\n",
      "Ran 1 test in 0.002s\n",
      "\n",
      "OK\n"
     ]
    },
    {
     "data": {
      "text/plain": [
       "<unittest.main.TestProgram at 0x247e7959fd0>"
      ]
     },
     "execution_count": 22,
     "metadata": {},
     "output_type": "execute_result"
    }
   ],
   "source": [
    "def common_letter(string1 :str, string2 : str) -> str:\n",
    "    for l1 in string1:\n",
    "        for l2 in string2:\n",
    "            if l1 == l2 : return l1\n",
    "\n",
    "class Helpers(unittest.TestCase):\n",
    "\n",
    "    def test_common_letter(self):\n",
    "        self.assertEqual(common_letter(\"vJrwpWtwJgWr\", \"hcsFMMfFFhFp\"), \"p\")\n",
    "        self.assertEqual(common_letter(\"jqHRNqRjqzjGDLGL\", \"rsFMfFZSrLrFZsSL\"), \"L\")\n",
    "\n",
    "unittest.main(argv=[''], verbosity=1, exit=False)"
   ]
  },
  {
   "cell_type": "markdown",
   "metadata": {},
   "source": [
    "### Score \n",
    "\n",
    "To help prioritize item rearrangement, every item type can be converted to a priority:\n",
    "\n",
    " * Lowercase item types a through z have priorities 1 through 26.\n",
    " * Uppercase item types A through Z have priorities 27 through 52.\n",
    "\n",
    "In the above example, the priority of the item type that appears in both compartments of each rucksack is 16 (p), 38 (L), 42 (P), 22 (v), 20 (t), and 19 (s); the sum of these is 157."
   ]
  },
  {
   "cell_type": "code",
   "execution_count": 26,
   "metadata": {},
   "outputs": [
    {
     "name": "stderr",
     "output_type": "stream",
     "text": [
      ".\n",
      "----------------------------------------------------------------------\n",
      "Ran 1 test in 0.001s\n",
      "\n",
      "OK\n"
     ]
    },
    {
     "data": {
      "text/plain": [
       "<unittest.main.TestProgram at 0x247e7696d90>"
      ]
     },
     "execution_count": 26,
     "metadata": {},
     "output_type": "execute_result"
    }
   ],
   "source": [
    "def get_score(string : str) -> int:\n",
    "    if string.islower():\n",
    "        return ord(string) - ord(\"a\") + 1\n",
    "    else:\n",
    "        return ord(string) - ord(\"A\") + 27\n",
    "\n",
    "class Helpers(unittest.TestCase):\n",
    "\n",
    "    def test_get_score(self):\n",
    "        self.assertEqual(get_score(\"p\"), 16)\n",
    "        self.assertEqual(get_score(\"L\"), 38)\n",
    "\n",
    "unittest.main(argv=[''], verbosity=1, exit=False)"
   ]
  },
  {
   "cell_type": "code",
   "execution_count": 33,
   "metadata": {},
   "outputs": [
    {
     "name": "stderr",
     "output_type": "stream",
     "text": [
      ".\n",
      "----------------------------------------------------------------------\n",
      "Ran 1 test in 0.001s\n",
      "\n",
      "OK\n"
     ]
    },
    {
     "data": {
      "text/plain": [
       "<unittest.main.TestProgram at 0x247e7afba00>"
      ]
     },
     "execution_count": 33,
     "metadata": {},
     "output_type": "execute_result"
    }
   ],
   "source": [
    "def common_letter_group(sac1 : str, sac2 : str, sac3 : str) -> str:\n",
    "    for l1 in sac1:\n",
    "        for l2 in sac2:\n",
    "            if l1 == l2 :\n",
    "                for l3 in sac3:\n",
    "                    if l2 == l3 :\n",
    "                        return l3\n",
    "\n",
    "\n",
    "\n",
    "class Helpers(unittest.TestCase):\n",
    "    def test_common_letter_group(self):\n",
    "        self.assertEqual(\n",
    "            common_letter_group(\"vJrwpWtwJgWrhcsFMMfFFhFp\"\n",
    "        , \"jqHRNqRjqzjGDLGLrsFMfFZSrLrFZsSL\",\"PmmdzqPrVvPwwTWBwg\"), \"r\")\n",
    "        self.assertEqual(\n",
    "            common_letter_group(\"wMqvLMZHhHMvwLHjbvcjnnSBnvTQFn\"\n",
    "        , \"ttgJtRGJQctTZtZT\",\"CrZsJsPPZsGzwwsLwLmpwMDw\"), \"Z\")\n",
    "unittest.main(argv=[''], verbosity=1, exit=False)\n"
   ]
  },
  {
   "cell_type": "markdown",
   "metadata": {},
   "source": [
    "## Question 1"
   ]
  },
  {
   "cell_type": "code",
   "execution_count": 27,
   "metadata": {},
   "outputs": [
    {
     "name": "stdout",
     "output_type": "stream",
     "text": [
      "7990\n"
     ]
    }
   ],
   "source": [
    "sum = 0\n",
    "for rucksack in rucksacks:\n",
    "    sum += get_score(common_letter(rucksack[0], rucksack[1]))\n",
    "\n",
    "print(sum)"
   ]
  },
  {
   "cell_type": "markdown",
   "metadata": {},
   "source": [
    "## Question 2"
   ]
  },
  {
   "cell_type": "code",
   "execution_count": 34,
   "metadata": {},
   "outputs": [
    {
     "name": "stdout",
     "output_type": "stream",
     "text": [
      "2602\n"
     ]
    }
   ],
   "source": [
    "sum = 0\n",
    "i = 0\n",
    "for rucksack in rucksacks:\n",
    "    i +=1\n",
    "    if i == 1: sac1 = rucksack[0] + rucksack[1]\n",
    "    if i == 2: sac2 = rucksack[0] + rucksack[1]\n",
    "    if i == 3:\n",
    "        sac3 = rucksack[0] + rucksack[1]\n",
    "        sum += get_score(common_letter_group(sac1, sac2, sac3))\n",
    "        i = 0\n",
    "\n",
    "print(sum)"
   ]
  }
 ],
 "metadata": {
  "kernelspec": {
   "display_name": "Python 3.9.13 ('base')",
   "language": "python",
   "name": "python3"
  },
  "language_info": {
   "codemirror_mode": {
    "name": "ipython",
    "version": 3
   },
   "file_extension": ".py",
   "mimetype": "text/x-python",
   "name": "python",
   "nbconvert_exporter": "python",
   "pygments_lexer": "ipython3",
   "version": "3.9.13"
  },
  "orig_nbformat": 4,
  "vscode": {
   "interpreter": {
    "hash": "5ae58900cfbb8c43ab3495913814b7cf26024f51651a94ce8bf64d6111688e8d"
   }
  }
 },
 "nbformat": 4,
 "nbformat_minor": 2
}
